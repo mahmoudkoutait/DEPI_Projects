{
 "cells": [
  {
   "cell_type": "markdown",
   "metadata": {},
   "source": [
    "### Gathering"
   ]
  },
  {
   "cell_type": "code",
   "execution_count": 26,
   "metadata": {},
   "outputs": [],
   "source": [
    "import pandas as pd\n",
    "df = pd.read_csv('./super-market.csv')"
   ]
  },
  {
   "cell_type": "code",
   "execution_count": 27,
   "metadata": {},
   "outputs": [
    {
     "name": "stdout",
     "output_type": "stream",
     "text": [
      "<class 'pandas.core.frame.DataFrame'>\n",
      "RangeIndex: 1006 entries, 0 to 1005\n",
      "Data columns (total 16 columns):\n",
      " #   Column         Non-Null Count  Dtype  \n",
      "---  ------         --------------  -----  \n",
      " 0   Invoice ID     1006 non-null   object \n",
      " 1   Branch         1006 non-null   object \n",
      " 2   Yangon         1006 non-null   int64  \n",
      " 3   Naypyitaw      1006 non-null   int64  \n",
      " 4   Mandalay       1006 non-null   int64  \n",
      " 5   Customer type  1006 non-null   object \n",
      " 6   Gender         1006 non-null   object \n",
      " 7   Product line   1006 non-null   object \n",
      " 8   Unit price     1006 non-null   object \n",
      " 9   Quantity       1006 non-null   int64  \n",
      " 10  Tax 5%         997 non-null    float64\n",
      " 11  Total          1003 non-null   float64\n",
      " 12  Date           1006 non-null   object \n",
      " 13  Time           1006 non-null   object \n",
      " 14  Payment        1006 non-null   object \n",
      " 15  Rating         1006 non-null   float64\n",
      "dtypes: float64(3), int64(4), object(9)\n",
      "memory usage: 125.9+ KB\n"
     ]
    }
   ],
   "source": [
    "df.info()"
   ]
  },
  {
   "cell_type": "code",
   "execution_count": 28,
   "metadata": {},
   "outputs": [],
   "source": [
    "df[\"Location\"] = df[[\"Yangon\",\"Naypyitaw\",\"Mandalay\"]].idxmax(axis=1)"
   ]
  },
  {
   "cell_type": "code",
   "execution_count": 29,
   "metadata": {},
   "outputs": [
    {
     "name": "stdout",
     "output_type": "stream",
     "text": [
      "<class 'pandas.core.frame.DataFrame'>\n",
      "RangeIndex: 1006 entries, 0 to 1005\n",
      "Data columns (total 17 columns):\n",
      " #   Column         Non-Null Count  Dtype  \n",
      "---  ------         --------------  -----  \n",
      " 0   Invoice ID     1006 non-null   object \n",
      " 1   Branch         1006 non-null   object \n",
      " 2   Yangon         1006 non-null   int64  \n",
      " 3   Naypyitaw      1006 non-null   int64  \n",
      " 4   Mandalay       1006 non-null   int64  \n",
      " 5   Customer type  1006 non-null   object \n",
      " 6   Gender         1006 non-null   object \n",
      " 7   Product line   1006 non-null   object \n",
      " 8   Unit price     1006 non-null   object \n",
      " 9   Quantity       1006 non-null   int64  \n",
      " 10  Tax 5%         997 non-null    float64\n",
      " 11  Total          1003 non-null   float64\n",
      " 12  Date           1006 non-null   object \n",
      " 13  Time           1006 non-null   object \n",
      " 14  Payment        1006 non-null   object \n",
      " 15  Rating         1006 non-null   float64\n",
      " 16  Location       1006 non-null   object \n",
      "dtypes: float64(3), int64(4), object(10)\n",
      "memory usage: 133.7+ KB\n"
     ]
    }
   ],
   "source": [
    "df.info()"
   ]
  },
  {
   "cell_type": "code",
   "execution_count": 30,
   "metadata": {},
   "outputs": [],
   "source": [
    "df.drop([\"Yangon\",\"Naypyitaw\",\"Mandalay\"], axis=1, inplace=True)"
   ]
  },
  {
   "cell_type": "code",
   "execution_count": 31,
   "metadata": {},
   "outputs": [
    {
     "name": "stdout",
     "output_type": "stream",
     "text": [
      "<class 'pandas.core.frame.DataFrame'>\n",
      "RangeIndex: 1006 entries, 0 to 1005\n",
      "Data columns (total 14 columns):\n",
      " #   Column         Non-Null Count  Dtype  \n",
      "---  ------         --------------  -----  \n",
      " 0   Invoice ID     1006 non-null   object \n",
      " 1   Branch         1006 non-null   object \n",
      " 2   Customer type  1006 non-null   object \n",
      " 3   Gender         1006 non-null   object \n",
      " 4   Product line   1006 non-null   object \n",
      " 5   Unit price     1006 non-null   object \n",
      " 6   Quantity       1006 non-null   int64  \n",
      " 7   Tax 5%         997 non-null    float64\n",
      " 8   Total          1003 non-null   float64\n",
      " 9   Date           1006 non-null   object \n",
      " 10  Time           1006 non-null   object \n",
      " 11  Payment        1006 non-null   object \n",
      " 12  Rating         1006 non-null   float64\n",
      " 13  Location       1006 non-null   object \n",
      "dtypes: float64(3), int64(1), object(10)\n",
      "memory usage: 110.2+ KB\n"
     ]
    }
   ],
   "source": [
    "df.info()"
   ]
  }
 ],
 "metadata": {
  "kernelspec": {
   "display_name": "base",
   "language": "python",
   "name": "python3"
  },
  "language_info": {
   "codemirror_mode": {
    "name": "ipython",
    "version": 3
   },
   "file_extension": ".py",
   "mimetype": "text/x-python",
   "name": "python",
   "nbconvert_exporter": "python",
   "pygments_lexer": "ipython3",
   "version": "3.12.8"
  }
 },
 "nbformat": 4,
 "nbformat_minor": 2
}

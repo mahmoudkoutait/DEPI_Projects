{
 "cells": [
  {
   "cell_type": "markdown",
   "metadata": {},
   "source": [
    "### Gathering, Exploration and Cleaning"
   ]
  },
  {
   "cell_type": "code",
   "execution_count": null,
   "metadata": {},
   "outputs": [],
   "source": [
    "# import pandas\"a library for data manipulation and analysis\"\n",
    "import pandas as pd\n",
    "# import data from csv file\n",
    "df = pd.read_csv('./super-market.csv')"
   ]
  },
  {
   "cell_type": "code",
   "execution_count": null,
   "metadata": {},
   "outputs": [
    {
     "name": "stdout",
     "output_type": "stream",
     "text": [
      "<class 'pandas.core.frame.DataFrame'>\n",
      "RangeIndex: 1006 entries, 0 to 1005\n",
      "Data columns (total 16 columns):\n",
      " #   Column         Non-Null Count  Dtype  \n",
      "---  ------         --------------  -----  \n",
      " 0   Invoice ID     1006 non-null   object \n",
      " 1   Branch         1006 non-null   object \n",
      " 2   Yangon         1006 non-null   int64  \n",
      " 3   Naypyitaw      1006 non-null   int64  \n",
      " 4   Mandalay       1006 non-null   int64  \n",
      " 5   Customer type  1006 non-null   object \n",
      " 6   Gender         1006 non-null   object \n",
      " 7   Product line   1006 non-null   object \n",
      " 8   Unit price     1006 non-null   object \n",
      " 9   Quantity       1006 non-null   int64  \n",
      " 10  Tax 5%         997 non-null    float64\n",
      " 11  Total          1003 non-null   float64\n",
      " 12  Date           1006 non-null   object \n",
      " 13  Time           1006 non-null   object \n",
      " 14  Payment        1006 non-null   object \n",
      " 15  Rating         1006 non-null   float64\n",
      "dtypes: float64(3), int64(4), object(9)\n",
      "memory usage: 125.9+ KB\n"
     ]
    }
   ],
   "source": [
    "# explore the data\n",
    "df.info()"
   ]
  },
  {
   "cell_type": "code",
   "execution_count": null,
   "metadata": {},
   "outputs": [],
   "source": [
    "# make three columns to one column\n",
    "df[\"Location\"] = df[[\"Yangon\",\"Naypyitaw\",\"Mandalay\"]].idxmax(axis=1)"
   ]
  },
  {
   "cell_type": "code",
   "execution_count": null,
   "metadata": {},
   "outputs": [],
   "source": [
    "# drop unused columns\n",
    "df.drop([\"Yangon\",\"Naypyitaw\",\"Mandalay\"], axis=1, inplace=True)"
   ]
  },
  {
   "cell_type": "code",
   "execution_count": 5,
   "metadata": {},
   "outputs": [
    {
     "name": "stdout",
     "output_type": "stream",
     "text": [
      "<class 'pandas.core.frame.DataFrame'>\n",
      "RangeIndex: 1006 entries, 0 to 1005\n",
      "Data columns (total 14 columns):\n",
      " #   Column         Non-Null Count  Dtype  \n",
      "---  ------         --------------  -----  \n",
      " 0   Invoice ID     1006 non-null   object \n",
      " 1   Branch         1006 non-null   object \n",
      " 2   Customer type  1006 non-null   object \n",
      " 3   Gender         1006 non-null   object \n",
      " 4   Product line   1006 non-null   object \n",
      " 5   Unit price     1006 non-null   object \n",
      " 6   Quantity       1006 non-null   int64  \n",
      " 7   Tax 5%         997 non-null    float64\n",
      " 8   Total          1003 non-null   float64\n",
      " 9   Date           1006 non-null   object \n",
      " 10  Time           1006 non-null   object \n",
      " 11  Payment        1006 non-null   object \n",
      " 12  Rating         1006 non-null   float64\n",
      " 13  Location       1006 non-null   object \n",
      "dtypes: float64(3), int64(1), object(10)\n",
      "memory usage: 110.2+ KB\n"
     ]
    }
   ],
   "source": [
    "df.info()"
   ]
  },
  {
   "cell_type": "code",
   "execution_count": 6,
   "metadata": {},
   "outputs": [
    {
     "data": {
      "application/vnd.microsoft.datawrangler.viewer.v0+json": {
       "columns": [
        {
         "name": "index",
         "rawType": "int64",
         "type": "integer"
        },
        {
         "name": "Invoice ID",
         "rawType": "object",
         "type": "string"
        },
        {
         "name": "Branch",
         "rawType": "object",
         "type": "string"
        },
        {
         "name": "Customer type",
         "rawType": "object",
         "type": "string"
        },
        {
         "name": "Gender",
         "rawType": "object",
         "type": "string"
        },
        {
         "name": "Product line",
         "rawType": "object",
         "type": "string"
        },
        {
         "name": "Unit price",
         "rawType": "object",
         "type": "string"
        },
        {
         "name": "Quantity",
         "rawType": "int64",
         "type": "integer"
        },
        {
         "name": "Tax 5%",
         "rawType": "float64",
         "type": "float"
        },
        {
         "name": "Total",
         "rawType": "float64",
         "type": "float"
        },
        {
         "name": "Date",
         "rawType": "object",
         "type": "string"
        },
        {
         "name": "Time",
         "rawType": "object",
         "type": "string"
        },
        {
         "name": "Payment",
         "rawType": "object",
         "type": "string"
        },
        {
         "name": "Rating",
         "rawType": "float64",
         "type": "float"
        },
        {
         "name": "Location",
         "rawType": "object",
         "type": "string"
        }
       ],
       "conversionMethod": "pd.DataFrame",
       "ref": "b0acc5d4-a21a-4171-b211-09275b044620",
       "rows": [
        [
         "0",
         "750-67-8428",
         "A",
         "Normal",
         "Male",
         "Health and beauty",
         "74.69",
         "7",
         "26.1415",
         null,
         "1/5/2019",
         "13:08",
         "Ewallet",
         "9.1",
         "Yangon"
        ],
        [
         "1",
         "226-31-3081",
         "C",
         "Normal",
         "Male",
         "Electronic accessories",
         "15.28",
         "5",
         "3.82",
         "80.22",
         "3/8/2019",
         "10:29",
         "Cash",
         "9.6",
         "Naypyitaw"
        ],
        [
         "2",
         "631-41-3108",
         "A",
         "Normal",
         "Male",
         "Home and lifestyle",
         "46.33",
         "7",
         "16.2155",
         "340.5255",
         "3/3/2019",
         "13:23",
         "Credit card",
         "7.4",
         "Yangon"
        ],
        [
         "3",
         "123-19-1176",
         "A",
         "Normal",
         "Male",
         "Health and beauty",
         "58.22",
         "8",
         null,
         "489.048",
         "1/27/2019",
         "8 - 30 PM",
         "Ewallet",
         "8.4",
         "Yangon"
        ],
        [
         "4",
         "373-73-7910",
         "A",
         "Normal",
         "Male",
         "Sports and travel",
         "86.31",
         "7",
         "30.2085",
         "634.3785",
         "2/8/2019",
         "10:37",
         "Ewallet",
         "5.3",
         "Yangon"
        ]
       ],
       "shape": {
        "columns": 14,
        "rows": 5
       }
      },
      "text/html": [
       "<div>\n",
       "<style scoped>\n",
       "    .dataframe tbody tr th:only-of-type {\n",
       "        vertical-align: middle;\n",
       "    }\n",
       "\n",
       "    .dataframe tbody tr th {\n",
       "        vertical-align: top;\n",
       "    }\n",
       "\n",
       "    .dataframe thead th {\n",
       "        text-align: right;\n",
       "    }\n",
       "</style>\n",
       "<table border=\"1\" class=\"dataframe\">\n",
       "  <thead>\n",
       "    <tr style=\"text-align: right;\">\n",
       "      <th></th>\n",
       "      <th>Invoice ID</th>\n",
       "      <th>Branch</th>\n",
       "      <th>Customer type</th>\n",
       "      <th>Gender</th>\n",
       "      <th>Product line</th>\n",
       "      <th>Unit price</th>\n",
       "      <th>Quantity</th>\n",
       "      <th>Tax 5%</th>\n",
       "      <th>Total</th>\n",
       "      <th>Date</th>\n",
       "      <th>Time</th>\n",
       "      <th>Payment</th>\n",
       "      <th>Rating</th>\n",
       "      <th>Location</th>\n",
       "    </tr>\n",
       "  </thead>\n",
       "  <tbody>\n",
       "    <tr>\n",
       "      <th>0</th>\n",
       "      <td>750-67-8428</td>\n",
       "      <td>A</td>\n",
       "      <td>Normal</td>\n",
       "      <td>Male</td>\n",
       "      <td>Health and beauty</td>\n",
       "      <td>74.69</td>\n",
       "      <td>7</td>\n",
       "      <td>26.1415</td>\n",
       "      <td>NaN</td>\n",
       "      <td>1/5/2019</td>\n",
       "      <td>13:08</td>\n",
       "      <td>Ewallet</td>\n",
       "      <td>9.1</td>\n",
       "      <td>Yangon</td>\n",
       "    </tr>\n",
       "    <tr>\n",
       "      <th>1</th>\n",
       "      <td>226-31-3081</td>\n",
       "      <td>C</td>\n",
       "      <td>Normal</td>\n",
       "      <td>Male</td>\n",
       "      <td>Electronic accessories</td>\n",
       "      <td>15.28</td>\n",
       "      <td>5</td>\n",
       "      <td>3.8200</td>\n",
       "      <td>80.2200</td>\n",
       "      <td>3/8/2019</td>\n",
       "      <td>10:29</td>\n",
       "      <td>Cash</td>\n",
       "      <td>9.6</td>\n",
       "      <td>Naypyitaw</td>\n",
       "    </tr>\n",
       "    <tr>\n",
       "      <th>2</th>\n",
       "      <td>631-41-3108</td>\n",
       "      <td>A</td>\n",
       "      <td>Normal</td>\n",
       "      <td>Male</td>\n",
       "      <td>Home and lifestyle</td>\n",
       "      <td>46.33</td>\n",
       "      <td>7</td>\n",
       "      <td>16.2155</td>\n",
       "      <td>340.5255</td>\n",
       "      <td>3/3/2019</td>\n",
       "      <td>13:23</td>\n",
       "      <td>Credit card</td>\n",
       "      <td>7.4</td>\n",
       "      <td>Yangon</td>\n",
       "    </tr>\n",
       "    <tr>\n",
       "      <th>3</th>\n",
       "      <td>123-19-1176</td>\n",
       "      <td>A</td>\n",
       "      <td>Normal</td>\n",
       "      <td>Male</td>\n",
       "      <td>Health and beauty</td>\n",
       "      <td>58.22</td>\n",
       "      <td>8</td>\n",
       "      <td>NaN</td>\n",
       "      <td>489.0480</td>\n",
       "      <td>1/27/2019</td>\n",
       "      <td>8 - 30 PM</td>\n",
       "      <td>Ewallet</td>\n",
       "      <td>8.4</td>\n",
       "      <td>Yangon</td>\n",
       "    </tr>\n",
       "    <tr>\n",
       "      <th>4</th>\n",
       "      <td>373-73-7910</td>\n",
       "      <td>A</td>\n",
       "      <td>Normal</td>\n",
       "      <td>Male</td>\n",
       "      <td>Sports and travel</td>\n",
       "      <td>86.31</td>\n",
       "      <td>7</td>\n",
       "      <td>30.2085</td>\n",
       "      <td>634.3785</td>\n",
       "      <td>2/8/2019</td>\n",
       "      <td>10:37</td>\n",
       "      <td>Ewallet</td>\n",
       "      <td>5.3</td>\n",
       "      <td>Yangon</td>\n",
       "    </tr>\n",
       "  </tbody>\n",
       "</table>\n",
       "</div>"
      ],
      "text/plain": [
       "    Invoice ID Branch Customer type Gender            Product line Unit price  \\\n",
       "0  750-67-8428      A        Normal   Male       Health and beauty      74.69   \n",
       "1  226-31-3081      C        Normal   Male  Electronic accessories      15.28   \n",
       "2  631-41-3108      A        Normal   Male      Home and lifestyle      46.33   \n",
       "3  123-19-1176      A        Normal   Male       Health and beauty      58.22   \n",
       "4  373-73-7910      A        Normal   Male       Sports and travel      86.31   \n",
       "\n",
       "   Quantity   Tax 5%     Total       Date       Time      Payment  Rating  \\\n",
       "0         7  26.1415       NaN   1/5/2019      13:08      Ewallet     9.1   \n",
       "1         5   3.8200   80.2200   3/8/2019      10:29         Cash     9.6   \n",
       "2         7  16.2155  340.5255   3/3/2019      13:23  Credit card     7.4   \n",
       "3         8      NaN  489.0480  1/27/2019  8 - 30 PM      Ewallet     8.4   \n",
       "4         7  30.2085  634.3785   2/8/2019      10:37      Ewallet     5.3   \n",
       "\n",
       "    Location  \n",
       "0     Yangon  \n",
       "1  Naypyitaw  \n",
       "2     Yangon  \n",
       "3     Yangon  \n",
       "4     Yangon  "
      ]
     },
     "execution_count": 6,
     "metadata": {},
     "output_type": "execute_result"
    }
   ],
   "source": [
    "df.head()"
   ]
  },
  {
   "cell_type": "code",
   "execution_count": 7,
   "metadata": {},
   "outputs": [
    {
     "data": {
      "application/vnd.microsoft.datawrangler.viewer.v0+json": {
       "columns": [
        {
         "name": "index",
         "rawType": "int64",
         "type": "integer"
        },
        {
         "name": "Invoice ID",
         "rawType": "object",
         "type": "string"
        },
        {
         "name": "Branch",
         "rawType": "object",
         "type": "string"
        },
        {
         "name": "Customer type",
         "rawType": "object",
         "type": "string"
        },
        {
         "name": "Gender",
         "rawType": "object",
         "type": "string"
        },
        {
         "name": "Product line",
         "rawType": "object",
         "type": "string"
        },
        {
         "name": "Unit price",
         "rawType": "object",
         "type": "string"
        },
        {
         "name": "Quantity",
         "rawType": "int64",
         "type": "integer"
        },
        {
         "name": "Tax 5%",
         "rawType": "float64",
         "type": "float"
        },
        {
         "name": "Total",
         "rawType": "float64",
         "type": "float"
        },
        {
         "name": "Date",
         "rawType": "object",
         "type": "string"
        },
        {
         "name": "Time",
         "rawType": "object",
         "type": "string"
        },
        {
         "name": "Payment",
         "rawType": "object",
         "type": "string"
        },
        {
         "name": "Rating",
         "rawType": "float64",
         "type": "float"
        },
        {
         "name": "Location",
         "rawType": "object",
         "type": "string"
        }
       ],
       "conversionMethod": "pd.DataFrame",
       "ref": "1157eaf7-629f-4a88-a3ff-49416719143b",
       "rows": [
        [
         "1001",
         "861-77-0145",
         "C",
         "Member",
         "Male",
         "Electronic accessories",
         "81.97",
         "10",
         "40.985",
         "860.685",
         "3/3/2019",
         "14:30",
         "Cash",
         "9.2",
         "Naypyitaw"
        ],
        [
         "1002",
         "479-26-8945",
         "B",
         "Member",
         "Female",
         "Sports and travel",
         "16.49",
         "2",
         "1.649",
         "34.629",
         "2/5/2019",
         "11:32",
         "Ewallet",
         "4.6",
         "Mandalay"
        ],
        [
         "1003",
         "210-67-5886",
         "C",
         "Member",
         "Female",
         "Health and beauty",
         "98.21",
         "3",
         "14.7315",
         "309.3615",
         "2/5/2019",
         "10:41",
         "Credit card",
         "7.8",
         "Naypyitaw"
        ],
        [
         "1004",
         "227-78-1148",
         "B",
         "Normal",
         "Female",
         "Fashion accessories",
         "72.84",
         "7",
         "25.494",
         "535.374",
         "2/15/2019",
         "12:44",
         "Cash",
         "8.4",
         "Mandalay"
        ],
        [
         "1005",
         "645-44-1170",
         "A",
         "Member",
         "Male",
         "Home and lifestyle",
         "58.07",
         "9",
         "26.1315",
         "548.7615",
         "1/19/2019",
         "20:07",
         "Ewallet",
         "4.3",
         "Yangon"
        ]
       ],
       "shape": {
        "columns": 14,
        "rows": 5
       }
      },
      "text/html": [
       "<div>\n",
       "<style scoped>\n",
       "    .dataframe tbody tr th:only-of-type {\n",
       "        vertical-align: middle;\n",
       "    }\n",
       "\n",
       "    .dataframe tbody tr th {\n",
       "        vertical-align: top;\n",
       "    }\n",
       "\n",
       "    .dataframe thead th {\n",
       "        text-align: right;\n",
       "    }\n",
       "</style>\n",
       "<table border=\"1\" class=\"dataframe\">\n",
       "  <thead>\n",
       "    <tr style=\"text-align: right;\">\n",
       "      <th></th>\n",
       "      <th>Invoice ID</th>\n",
       "      <th>Branch</th>\n",
       "      <th>Customer type</th>\n",
       "      <th>Gender</th>\n",
       "      <th>Product line</th>\n",
       "      <th>Unit price</th>\n",
       "      <th>Quantity</th>\n",
       "      <th>Tax 5%</th>\n",
       "      <th>Total</th>\n",
       "      <th>Date</th>\n",
       "      <th>Time</th>\n",
       "      <th>Payment</th>\n",
       "      <th>Rating</th>\n",
       "      <th>Location</th>\n",
       "    </tr>\n",
       "  </thead>\n",
       "  <tbody>\n",
       "    <tr>\n",
       "      <th>1001</th>\n",
       "      <td>861-77-0145</td>\n",
       "      <td>C</td>\n",
       "      <td>Member</td>\n",
       "      <td>Male</td>\n",
       "      <td>Electronic accessories</td>\n",
       "      <td>81.97</td>\n",
       "      <td>10</td>\n",
       "      <td>40.9850</td>\n",
       "      <td>860.6850</td>\n",
       "      <td>3/3/2019</td>\n",
       "      <td>14:30</td>\n",
       "      <td>Cash</td>\n",
       "      <td>9.2</td>\n",
       "      <td>Naypyitaw</td>\n",
       "    </tr>\n",
       "    <tr>\n",
       "      <th>1002</th>\n",
       "      <td>479-26-8945</td>\n",
       "      <td>B</td>\n",
       "      <td>Member</td>\n",
       "      <td>Female</td>\n",
       "      <td>Sports and travel</td>\n",
       "      <td>16.49</td>\n",
       "      <td>2</td>\n",
       "      <td>1.6490</td>\n",
       "      <td>34.6290</td>\n",
       "      <td>2/5/2019</td>\n",
       "      <td>11:32</td>\n",
       "      <td>Ewallet</td>\n",
       "      <td>4.6</td>\n",
       "      <td>Mandalay</td>\n",
       "    </tr>\n",
       "    <tr>\n",
       "      <th>1003</th>\n",
       "      <td>210-67-5886</td>\n",
       "      <td>C</td>\n",
       "      <td>Member</td>\n",
       "      <td>Female</td>\n",
       "      <td>Health and beauty</td>\n",
       "      <td>98.21</td>\n",
       "      <td>3</td>\n",
       "      <td>14.7315</td>\n",
       "      <td>309.3615</td>\n",
       "      <td>2/5/2019</td>\n",
       "      <td>10:41</td>\n",
       "      <td>Credit card</td>\n",
       "      <td>7.8</td>\n",
       "      <td>Naypyitaw</td>\n",
       "    </tr>\n",
       "    <tr>\n",
       "      <th>1004</th>\n",
       "      <td>227-78-1148</td>\n",
       "      <td>B</td>\n",
       "      <td>Normal</td>\n",
       "      <td>Female</td>\n",
       "      <td>Fashion accessories</td>\n",
       "      <td>72.84</td>\n",
       "      <td>7</td>\n",
       "      <td>25.4940</td>\n",
       "      <td>535.3740</td>\n",
       "      <td>2/15/2019</td>\n",
       "      <td>12:44</td>\n",
       "      <td>Cash</td>\n",
       "      <td>8.4</td>\n",
       "      <td>Mandalay</td>\n",
       "    </tr>\n",
       "    <tr>\n",
       "      <th>1005</th>\n",
       "      <td>645-44-1170</td>\n",
       "      <td>A</td>\n",
       "      <td>Member</td>\n",
       "      <td>Male</td>\n",
       "      <td>Home and lifestyle</td>\n",
       "      <td>58.07</td>\n",
       "      <td>9</td>\n",
       "      <td>26.1315</td>\n",
       "      <td>548.7615</td>\n",
       "      <td>1/19/2019</td>\n",
       "      <td>20:07</td>\n",
       "      <td>Ewallet</td>\n",
       "      <td>4.3</td>\n",
       "      <td>Yangon</td>\n",
       "    </tr>\n",
       "  </tbody>\n",
       "</table>\n",
       "</div>"
      ],
      "text/plain": [
       "       Invoice ID Branch Customer type  Gender            Product line  \\\n",
       "1001  861-77-0145      C        Member    Male  Electronic accessories   \n",
       "1002  479-26-8945      B        Member  Female       Sports and travel   \n",
       "1003  210-67-5886      C        Member  Female       Health and beauty   \n",
       "1004  227-78-1148      B        Normal  Female     Fashion accessories   \n",
       "1005  645-44-1170      A        Member    Male      Home and lifestyle   \n",
       "\n",
       "     Unit price  Quantity   Tax 5%     Total       Date   Time      Payment  \\\n",
       "1001      81.97        10  40.9850  860.6850   3/3/2019  14:30         Cash   \n",
       "1002      16.49         2   1.6490   34.6290   2/5/2019  11:32      Ewallet   \n",
       "1003      98.21         3  14.7315  309.3615   2/5/2019  10:41  Credit card   \n",
       "1004      72.84         7  25.4940  535.3740  2/15/2019  12:44         Cash   \n",
       "1005      58.07         9  26.1315  548.7615  1/19/2019  20:07      Ewallet   \n",
       "\n",
       "      Rating   Location  \n",
       "1001     9.2  Naypyitaw  \n",
       "1002     4.6   Mandalay  \n",
       "1003     7.8  Naypyitaw  \n",
       "1004     8.4   Mandalay  \n",
       "1005     4.3     Yangon  "
      ]
     },
     "execution_count": 7,
     "metadata": {},
     "output_type": "execute_result"
    }
   ],
   "source": [
    "df.tail()"
   ]
  },
  {
   "cell_type": "code",
   "execution_count": 8,
   "metadata": {},
   "outputs": [
    {
     "data": {
      "application/vnd.microsoft.datawrangler.viewer.v0+json": {
       "columns": [
        {
         "name": "index",
         "rawType": "object",
         "type": "string"
        },
        {
         "name": "Quantity",
         "rawType": "float64",
         "type": "float"
        },
        {
         "name": "Tax 5%",
         "rawType": "float64",
         "type": "float"
        },
        {
         "name": "Total",
         "rawType": "float64",
         "type": "float"
        },
        {
         "name": "Rating",
         "rawType": "float64",
         "type": "float"
        }
       ],
       "conversionMethod": "pd.DataFrame",
       "ref": "4a6b6ef7-bb7d-4c02-b4ba-5d8a3efae31f",
       "rows": [
        [
         "count",
         "1006.0",
         "997.0",
         "1003.0",
         "1006.0"
        ],
        [
         "mean",
         "5.469184890656064",
         "15.479682046138414",
         "322.7346894317049",
         "7.056163021868787"
        ],
        [
         "std",
         "3.014153137438557",
         "11.728319830431309",
         "245.86596372431234",
         "3.318750707416057"
        ],
        [
         "min",
         "-8.0",
         "0.5085",
         "10.6785",
         "4.0"
        ],
        [
         "25%",
         "3.0",
         "5.9865",
         "123.78975",
         "5.5"
        ],
        [
         "50%",
         "5.0",
         "12.2275",
         "254.016",
         "7.0"
        ],
        [
         "75%",
         "8.0",
         "22.7205",
         "471.009",
         "8.5"
        ],
        [
         "max",
         "10.0",
         "49.65",
         "1042.65",
         "97.0"
        ]
       ],
       "shape": {
        "columns": 4,
        "rows": 8
       }
      },
      "text/html": [
       "<div>\n",
       "<style scoped>\n",
       "    .dataframe tbody tr th:only-of-type {\n",
       "        vertical-align: middle;\n",
       "    }\n",
       "\n",
       "    .dataframe tbody tr th {\n",
       "        vertical-align: top;\n",
       "    }\n",
       "\n",
       "    .dataframe thead th {\n",
       "        text-align: right;\n",
       "    }\n",
       "</style>\n",
       "<table border=\"1\" class=\"dataframe\">\n",
       "  <thead>\n",
       "    <tr style=\"text-align: right;\">\n",
       "      <th></th>\n",
       "      <th>Quantity</th>\n",
       "      <th>Tax 5%</th>\n",
       "      <th>Total</th>\n",
       "      <th>Rating</th>\n",
       "    </tr>\n",
       "  </thead>\n",
       "  <tbody>\n",
       "    <tr>\n",
       "      <th>count</th>\n",
       "      <td>1006.000000</td>\n",
       "      <td>997.000000</td>\n",
       "      <td>1003.000000</td>\n",
       "      <td>1006.000000</td>\n",
       "    </tr>\n",
       "    <tr>\n",
       "      <th>mean</th>\n",
       "      <td>5.469185</td>\n",
       "      <td>15.479682</td>\n",
       "      <td>322.734689</td>\n",
       "      <td>7.056163</td>\n",
       "    </tr>\n",
       "    <tr>\n",
       "      <th>std</th>\n",
       "      <td>3.014153</td>\n",
       "      <td>11.728320</td>\n",
       "      <td>245.865964</td>\n",
       "      <td>3.318751</td>\n",
       "    </tr>\n",
       "    <tr>\n",
       "      <th>min</th>\n",
       "      <td>-8.000000</td>\n",
       "      <td>0.508500</td>\n",
       "      <td>10.678500</td>\n",
       "      <td>4.000000</td>\n",
       "    </tr>\n",
       "    <tr>\n",
       "      <th>25%</th>\n",
       "      <td>3.000000</td>\n",
       "      <td>5.986500</td>\n",
       "      <td>123.789750</td>\n",
       "      <td>5.500000</td>\n",
       "    </tr>\n",
       "    <tr>\n",
       "      <th>50%</th>\n",
       "      <td>5.000000</td>\n",
       "      <td>12.227500</td>\n",
       "      <td>254.016000</td>\n",
       "      <td>7.000000</td>\n",
       "    </tr>\n",
       "    <tr>\n",
       "      <th>75%</th>\n",
       "      <td>8.000000</td>\n",
       "      <td>22.720500</td>\n",
       "      <td>471.009000</td>\n",
       "      <td>8.500000</td>\n",
       "    </tr>\n",
       "    <tr>\n",
       "      <th>max</th>\n",
       "      <td>10.000000</td>\n",
       "      <td>49.650000</td>\n",
       "      <td>1042.650000</td>\n",
       "      <td>97.000000</td>\n",
       "    </tr>\n",
       "  </tbody>\n",
       "</table>\n",
       "</div>"
      ],
      "text/plain": [
       "          Quantity      Tax 5%        Total       Rating\n",
       "count  1006.000000  997.000000  1003.000000  1006.000000\n",
       "mean      5.469185   15.479682   322.734689     7.056163\n",
       "std       3.014153   11.728320   245.865964     3.318751\n",
       "min      -8.000000    0.508500    10.678500     4.000000\n",
       "25%       3.000000    5.986500   123.789750     5.500000\n",
       "50%       5.000000   12.227500   254.016000     7.000000\n",
       "75%       8.000000   22.720500   471.009000     8.500000\n",
       "max      10.000000   49.650000  1042.650000    97.000000"
      ]
     },
     "execution_count": 8,
     "metadata": {},
     "output_type": "execute_result"
    }
   ],
   "source": [
    "description = df.describe()\n",
    "description"
   ]
  },
  {
   "cell_type": "code",
   "execution_count": null,
   "metadata": {},
   "outputs": [],
   "source": [
    "# delete rows with missing values\n",
    "df.dropna(inplace=True)\n",
    "df.drop_duplicates(inplace=True)"
   ]
  },
  {
   "cell_type": "code",
   "execution_count": 10,
   "metadata": {},
   "outputs": [
    {
     "data": {
      "text/plain": [
       "Invoice ID       0\n",
       "Branch           0\n",
       "Customer type    0\n",
       "Gender           0\n",
       "Product line     0\n",
       "Unit price       0\n",
       "Quantity         0\n",
       "Tax 5%           0\n",
       "Total            0\n",
       "Date             0\n",
       "Time             0\n",
       "Payment          0\n",
       "Rating           0\n",
       "Location         0\n",
       "dtype: int64"
      ]
     },
     "execution_count": 10,
     "metadata": {},
     "output_type": "execute_result"
    }
   ],
   "source": [
    "df.isnull().sum()"
   ]
  },
  {
   "cell_type": "code",
   "execution_count": 11,
   "metadata": {},
   "outputs": [
    {
     "data": {
      "text/plain": [
       "np.int64(0)"
      ]
     },
     "execution_count": 11,
     "metadata": {},
     "output_type": "execute_result"
    }
   ],
   "source": [
    "df.duplicated().sum()"
   ]
  },
  {
   "cell_type": "code",
   "execution_count": null,
   "metadata": {},
   "outputs": [],
   "source": [
    "# change the data type of the Date column to datetime\n",
    "df['Date'] = pd.to_datetime(df['Date'])"
   ]
  },
  {
   "cell_type": "code",
   "execution_count": null,
   "metadata": {},
   "outputs": [
    {
     "data": {
      "text/plain": [
       "array(['Normal', '-', 'Member', 'Memberr'], dtype=object)"
      ]
     },
     "execution_count": 13,
     "metadata": {},
     "output_type": "execute_result"
    }
   ],
   "source": [
    "\n",
    "df[\"Customer type\"].unique()"
   ]
  },
  {
   "cell_type": "code",
   "execution_count": null,
   "metadata": {},
   "outputs": [],
   "source": [
    "# replace the wrong values in the Customer type column\n",
    "df[\"Customer type\"] = df[\"Customer type\"].replace(\"Memberr\", \"Member\")\n",
    "df[\"Customer type\"] = df[\"Customer type\"].replace(\"-\", \"Member\")"
   ]
  },
  {
   "cell_type": "code",
   "execution_count": 15,
   "metadata": {},
   "outputs": [
    {
     "data": {
      "text/plain": [
       "array(['Normal', 'Member'], dtype=object)"
      ]
     },
     "execution_count": 15,
     "metadata": {},
     "output_type": "execute_result"
    }
   ],
   "source": [
    "df[\"Customer type\"].unique()"
   ]
  },
  {
   "cell_type": "code",
   "execution_count": 16,
   "metadata": {},
   "outputs": [
    {
     "data": {
      "text/plain": [
       "array([ 9.6,  7.4,  5.3,  4.1,  5.8,  8. ,  5.9,  4.5,  6.8,  7.1,  8.2,\n",
       "        4.6,  6.9,  8.6,  4.4,  4.8,  5.1,  9.9,  6. ,  8.5,  6.7,  7.7,\n",
       "        7.5,  7. ,  7.6,  7.9,  6.3,  5.6,  7.2,  9.5,  8.4,  8.1,  6.5,\n",
       "        6.1,  6.6,  5.4,  9.3, 10. ,  6.4,  4.3,  4. ,  8.7,  9.4,  5.7,\n",
       "        5.5,  8.3,  7.3,  4.9,  4.2,  9.2,  7.8,  5.2,  9. ,  8.8,  6.2,\n",
       "        9.8,  9.1, 97. ,  5. ,  9.7,  8.9,  4.7])"
      ]
     },
     "execution_count": 16,
     "metadata": {},
     "output_type": "execute_result"
    }
   ],
   "source": [
    "df[\"Rating\"].unique()"
   ]
  },
  {
   "cell_type": "code",
   "execution_count": null,
   "metadata": {},
   "outputs": [],
   "source": [
    "# replace value 97 with 9.7 because it is a typo, the rating should be between 0 and 10\n",
    "df[\"Rating\"] = df[\"Rating\"].replace(97, 9.7)"
   ]
  },
  {
   "cell_type": "code",
   "execution_count": 18,
   "metadata": {},
   "outputs": [
    {
     "data": {
      "text/plain": [
       "array([ 9.6,  7.4,  5.3,  4.1,  5.8,  8. ,  5.9,  4.5,  6.8,  7.1,  8.2,\n",
       "        4.6,  6.9,  8.6,  4.4,  4.8,  5.1,  9.9,  6. ,  8.5,  6.7,  7.7,\n",
       "        7.5,  7. ,  7.6,  7.9,  6.3,  5.6,  7.2,  9.5,  8.4,  8.1,  6.5,\n",
       "        6.1,  6.6,  5.4,  9.3, 10. ,  6.4,  4.3,  4. ,  8.7,  9.4,  5.7,\n",
       "        5.5,  8.3,  7.3,  4.9,  4.2,  9.2,  7.8,  5.2,  9. ,  8.8,  6.2,\n",
       "        9.8,  9.1,  9.7,  5. ,  8.9,  4.7])"
      ]
     },
     "execution_count": 18,
     "metadata": {},
     "output_type": "execute_result"
    }
   ],
   "source": [
    "df[\"Rating\"].unique()"
   ]
  },
  {
   "cell_type": "code",
   "execution_count": null,
   "metadata": {},
   "outputs": [],
   "source": [
    "# export cleaed data as csv file.\n",
    "df.to_csv('./super-market-cleaned.csv', index=False)"
   ]
  },
  {
   "cell_type": "markdown",
   "metadata": {},
   "source": [
    "### Analysis"
   ]
  }
 ],
 "metadata": {
  "kernelspec": {
   "display_name": "base",
   "language": "python",
   "name": "python3"
  },
  "language_info": {
   "codemirror_mode": {
    "name": "ipython",
    "version": 3
   },
   "file_extension": ".py",
   "mimetype": "text/x-python",
   "name": "python",
   "nbconvert_exporter": "python",
   "pygments_lexer": "ipython3",
   "version": "3.12.8"
  }
 },
 "nbformat": 4,
 "nbformat_minor": 2
}
